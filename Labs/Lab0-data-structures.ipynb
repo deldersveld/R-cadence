{
 "cells": [
  {
   "cell_type": "markdown",
   "metadata": {},
   "source": [
    "\n",
    "# R Primitives\n",
    "\n",
    "## Vectors\n",
    "\n",
    "Use the `typeof` function to explore the data structure's low-level structure, and the `class` object to see the object's higher level structure.\n",
    "\n"
   ]
  },
  {
   "cell_type": "code",
   "execution_count": null,
   "metadata": {
    "Rmd_chunk_options": "vectors",
    "autoscroll": false,
    "collapsed": true
   },
   "outputs": [],
   "source": [
    "random_norms <- rnorm(100)\n",
    "typeof(random_norms)\n",
    "class(random_norms)\n",
    "\n",
    "some_letters <- letters[1:10]\n",
    "typeof(some_letters)\n",
    "class(some_letters)\n",
    "\n",
    "int_vector <- c(1L, 2L, 3L)\n",
    "typeof(int_vector)\n",
    "class(int_vector)\n",
    "\n",
    "booleans <- int_vector == 1\n",
    "typeof(booleans)\n",
    "class(booleans)"
   ]
  },
  {
   "cell_type": "markdown",
   "metadata": {},
   "source": [
    "\n",
    "can you mix types in a vector?\n",
    "\n"
   ]
  },
  {
   "cell_type": "code",
   "execution_count": null,
   "metadata": {
    "Rmd_chunk_options": "coercion",
    "autoscroll": false,
    "collapsed": true
   },
   "outputs": [],
   "source": [
    "combine_char_num <- c(random_norms, some_letters)\n",
    "typeof(combine_char_num)"
   ]
  },
  {
   "cell_type": "markdown",
   "metadata": {},
   "source": [
    "\n",
    "## Lists\n",
    "\n",
    "to combine types, make list\n",
    "\n"
   ]
  },
  {
   "cell_type": "code",
   "execution_count": null,
   "metadata": {
    "Rmd_chunk_options": "list",
    "autoscroll": false,
    "collapsed": true
   },
   "outputs": [],
   "source": [
    "list_char_num <- list(nums = random_norms, chars = some_letters)\n",
    "typeof(list_char_num)\n",
    "lapply(list_char_num, typeof)"
   ]
  },
  {
   "cell_type": "markdown",
   "metadata": {},
   "source": [
    "\n",
    "## Matrices\n",
    "\n",
    "matrices, same length, same type\n",
    "\n"
   ]
  },
  {
   "cell_type": "code",
   "execution_count": null,
   "metadata": {
    "Rmd_chunk_options": "matrices",
    "autoscroll": false,
    "collapsed": true
   },
   "outputs": [],
   "source": [
    "matrix_num <- matrix(rnorm(10), nrow = 5, ncol = 2)\n",
    "# reuse\n",
    "matrix_num_reuse <- matrix(rnorm(11), nrow = 6, ncol = 4)\n",
    "matrix_mix <- matrix(c(rnorm(10), letters[1:10]), nrow = 10, ncol = 2)\n",
    "typeof(matrix_mix)"
   ]
  },
  {
   "cell_type": "markdown",
   "metadata": {},
   "source": [
    "\n",
    "\n",
    "## data.frames\n",
    "\n",
    "To mix elements in a rectangular object/table, use `data.frames`:\n",
    "\n"
   ]
  },
  {
   "cell_type": "code",
   "execution_count": null,
   "metadata": {
    "Rmd_chunk_options": "dfs",
    "autoscroll": false,
    "collapsed": true
   },
   "outputs": [],
   "source": [
    "df_char_num <- data.frame(chars = letters[1:10], nums = rnorm(10))\n",
    "lapply(df_char_num, typeof)\n",
    "\n",
    "## data.frames must have same length in each column\n",
    "df_char_num <- data.frame(chars = letters[1:8], nums = rnorm(10))\n",
    ""
   ]
  },
  {
   "cell_type": "markdown",
   "metadata": {},
   "source": [
    "\n",
    "## Helpful Functions\n",
    "\n",
    "\n"
   ]
  },
  {
   "cell_type": "code",
   "execution_count": null,
   "metadata": {
    "autoscroll": false,
    "collapsed": true
   },
   "outputs": [],
   "source": [
    "\n",
    "# see your workspace\n",
    "ls()\n",
    "\n",
    "\n",
    "# check working directory, change directory\n",
    "getwd()\n",
    "setwd(getwd())\n",
    "\n",
    "# create a sequence of numbers\n",
    "1:10\n",
    "seq(1, 10)\n",
    "seq(1, 10, 2)\n",
    "\n",
    "# get help\n",
    "?seq\n",
    "help(seq)\n",
    "\n",
    "# type tests\n",
    "\n",
    "is.character(some_letters)\n",
    "is.numeric(some_letters)\n",
    "is.atomic(some_letters)\n",
    "is.atomic(df_char_num)\n",
    "\n",
    "# remove object from workspace\n",
    "rm(some_letters)\n",
    "\n",
    "# remove all visible objects\n",
    "\n",
    "rm(list = ls())\n",
    ""
   ]
  },
  {
   "cell_type": "markdown",
   "metadata": {},
   "source": [
    "\n"
   ]
  }
 ],
 "metadata": {
  "Rmd_header": {
   "author": "Ali Zaidi",
   "date": "10/10/2016",
   "output": "html_document",
   "title": "Lab 0 - Data Structures"
  },
  "kernelspec": {
   "display_name": "R",
   "language": "R",
   "name": "ir"
  },
  "language_info": {
   "codemirror_mode": "r",
   "file_extension": ".r",
   "mimetype": "text/x-r-source",
   "name": "R",
   "pygments_lexer": "r"
  }
 },
 "nbformat": 4,
 "nbformat_minor": 0
}
